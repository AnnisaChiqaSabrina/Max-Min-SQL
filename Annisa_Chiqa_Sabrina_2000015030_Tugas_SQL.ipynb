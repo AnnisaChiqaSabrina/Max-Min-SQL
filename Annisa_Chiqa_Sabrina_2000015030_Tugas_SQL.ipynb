{
  "nbformat": 4,
  "nbformat_minor": 0,
  "metadata": {
    "colab": {
      "provenance": []
    },
    "kernelspec": {
      "name": "python3",
      "display_name": "Python 3"
    },
    "language_info": {
      "name": "python"
    }
  },
  "cells": [
    {
      "cell_type": "code",
      "execution_count": null,
      "metadata": {
        "id": "0U9VsD2ItbTu"
      },
      "outputs": [],
      "source": [
        "#Nomor 2\n",
        "'''semua variabel dari tabel Invoce dijadikan satu value\n",
        "berdasarkan BillingCountry dan cari nilai Min'''\n",
        "\n",
        "select*, min(BillingCountry) as Country from Invoice i\n",
        "group by BillingCountry\n",
        "\n",
        "#Nomor 3\n",
        "'''semua variabel dari tabel Invoce dijadikan satu value\n",
        "berdasarkan BillingCountry dan cari nilai Max'''\n",
        "\n",
        "select*, max(BillingCountry) as Country from Invoice i\n",
        "group by BillingCountry"
      ]
    }
  ]
}